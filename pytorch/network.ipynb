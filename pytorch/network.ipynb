{
 "cells": [
  {
   "metadata": {
    "ExecuteTime": {
     "end_time": "2024-04-26T00:28:37.911924Z",
     "start_time": "2024-04-26T00:28:37.906044Z"
    }
   },
   "cell_type": "code",
   "source": [
    "import os\n",
    "import torch\n",
    "from torch import nn\n",
    "from torch.utils.data import DataLoader\n",
    "from torchvision import datasets, transforms\n",
    "from torchvision.transforms import ToTensor"
   ],
   "id": "32e7ed44e59dd49a",
   "outputs": [],
   "execution_count": 35
  },
  {
   "metadata": {
    "ExecuteTime": {
     "end_time": "2024-04-25T23:50:28.618397Z",
     "start_time": "2024-04-25T23:50:28.612820Z"
    }
   },
   "cell_type": "code",
   "source": [
    "device = (\n",
    "    \"cuda\"\n",
    "    if torch.cuda.is_available()\n",
    "    else \"mps\"\n",
    "    if torch.backends.mps.is_available()\n",
    "    else \"cpu\"\n",
    ")\n",
    "print(f\"Using {device} device\")"
   ],
   "id": "c625773e0f79fb49",
   "outputs": [
    {
     "name": "stdout",
     "output_type": "stream",
     "text": [
      "Using cpu device\n"
     ]
    }
   ],
   "execution_count": 2
  },
  {
   "metadata": {
    "ExecuteTime": {
     "end_time": "2024-04-26T00:28:39.732503Z",
     "start_time": "2024-04-26T00:28:39.657141Z"
    }
   },
   "cell_type": "code",
   "source": [
    "training_data = datasets.FashionMNIST(\n",
    "    root=\"data\",\n",
    "    train=True,\n",
    "    download=True,\n",
    "    transform=ToTensor()\n",
    ")\n",
    "\n",
    "test_data = datasets.FashionMNIST(\n",
    "    root=\"data\",\n",
    "    train=False,\n",
    "    download=True,\n",
    "    transform=ToTensor()\n",
    ")\n",
    "\n",
    "train_dataloader = DataLoader(training_data, batch_size=64)\n",
    "test_dataloader = DataLoader(test_data, batch_size=64)"
   ],
   "id": "26e7ffbb6fe7efc3",
   "outputs": [],
   "execution_count": 36
  },
  {
   "metadata": {
    "ExecuteTime": {
     "end_time": "2024-04-25T23:51:27.365104Z",
     "start_time": "2024-04-25T23:51:27.358523Z"
    }
   },
   "cell_type": "code",
   "source": [
    "class NeuralNetwork(nn.Module):\n",
    "    def __init__(self):\n",
    "        super().__init__()\n",
    "        self.flatten = nn.Flatten()\n",
    "        self.linear_relu_stack = nn.Sequential(\n",
    "            nn.Linear(28*28, 512),\n",
    "            nn.ReLU(),\n",
    "            nn.Linear(512, 512),\n",
    "            nn.ReLU(),\n",
    "            nn.Linear(512, 10),\n",
    "        )\n",
    "\n",
    "    def forward(self, x):\n",
    "        x = self.flatten(x)\n",
    "        logits = self.linear_relu_stack(x)\n",
    "        return logits"
   ],
   "id": "92cf3091c93056d1",
   "outputs": [],
   "execution_count": 7
  },
  {
   "metadata": {
    "ExecuteTime": {
     "end_time": "2024-04-25T23:51:29.095967Z",
     "start_time": "2024-04-25T23:51:29.086450Z"
    }
   },
   "cell_type": "code",
   "source": [
    "model = NeuralNetwork().to(device)\n",
    "print(model)"
   ],
   "id": "1186dc27e0facd3b",
   "outputs": [
    {
     "name": "stdout",
     "output_type": "stream",
     "text": [
      "NeuralNetwork(\n",
      "  (flatten): Flatten(start_dim=1, end_dim=-1)\n",
      "  (linear_relu_stack): Sequential(\n",
      "    (0): Linear(in_features=784, out_features=512, bias=True)\n",
      "    (1): ReLU()\n",
      "    (2): Linear(in_features=512, out_features=512, bias=True)\n",
      "    (3): ReLU()\n",
      "    (4): Linear(in_features=512, out_features=10, bias=True)\n",
      "  )\n",
      ")\n"
     ]
    }
   ],
   "execution_count": 8
  },
  {
   "metadata": {
    "ExecuteTime": {
     "end_time": "2024-04-25T23:59:09.592859Z",
     "start_time": "2024-04-25T23:59:09.584833Z"
    }
   },
   "cell_type": "code",
   "source": [
    "X = torch.rand(1, 28, 28, device=device)\n",
    "logits = model(X)\n",
    "pred_probab = nn.Softmax(dim=1)(logits)\n",
    "y_pred = pred_probab.argmax(1)\n",
    "print(f\"Predicted class: {y_pred}\")"
   ],
   "id": "64d766f3682e2cf4",
   "outputs": [
    {
     "name": "stdout",
     "output_type": "stream",
     "text": [
      "Predicted class: tensor([4])\n"
     ]
    }
   ],
   "execution_count": 30
  },
  {
   "metadata": {
    "ExecuteTime": {
     "end_time": "2024-04-26T00:20:35.488488Z",
     "start_time": "2024-04-26T00:20:35.467936Z"
    }
   },
   "cell_type": "code",
   "source": [
    "print(f\"Model structure: {model}\\n\\n\")\n",
    "\n",
    "for name, param in model.named_parameters():\n",
    "    print(f\"Layer: {name} | Size: {param.size()} | Values : {param[:2]} \\n\")"
   ],
   "id": "7b19b92d431c44b3",
   "outputs": [
    {
     "name": "stdout",
     "output_type": "stream",
     "text": [
      "Model structure: NeuralNetwork(\n",
      "  (flatten): Flatten(start_dim=1, end_dim=-1)\n",
      "  (linear_relu_stack): Sequential(\n",
      "    (0): Linear(in_features=784, out_features=512, bias=True)\n",
      "    (1): ReLU()\n",
      "    (2): Linear(in_features=512, out_features=512, bias=True)\n",
      "    (3): ReLU()\n",
      "    (4): Linear(in_features=512, out_features=10, bias=True)\n",
      "  )\n",
      ")\n",
      "\n",
      "\n",
      "Layer: linear_relu_stack.0.weight | Size: torch.Size([512, 784]) | Values : tensor([[ 0.0103,  0.0031,  0.0092,  ...,  0.0199, -0.0047,  0.0049],\n",
      "        [ 0.0041, -0.0151,  0.0054,  ...,  0.0200,  0.0090,  0.0227]],\n",
      "       grad_fn=<SliceBackward0>) \n",
      "\n",
      "Layer: linear_relu_stack.0.bias | Size: torch.Size([512]) | Values : tensor([-0.0091, -0.0335], grad_fn=<SliceBackward0>) \n",
      "\n",
      "Layer: linear_relu_stack.2.weight | Size: torch.Size([512, 512]) | Values : tensor([[-0.0370,  0.0360,  0.0366,  ...,  0.0325,  0.0250, -0.0369],\n",
      "        [ 0.0401, -0.0357,  0.0386,  ..., -0.0121,  0.0072, -0.0343]],\n",
      "       grad_fn=<SliceBackward0>) \n",
      "\n",
      "Layer: linear_relu_stack.2.bias | Size: torch.Size([512]) | Values : tensor([ 0.0159, -0.0095], grad_fn=<SliceBackward0>) \n",
      "\n",
      "Layer: linear_relu_stack.4.weight | Size: torch.Size([10, 512]) | Values : tensor([[ 0.0109, -0.0168,  0.0273,  ..., -0.0376,  0.0085, -0.0008],\n",
      "        [ 0.0126, -0.0119, -0.0269,  ...,  0.0036,  0.0114, -0.0057]],\n",
      "       grad_fn=<SliceBackward0>) \n",
      "\n",
      "Layer: linear_relu_stack.4.bias | Size: torch.Size([10]) | Values : tensor([ 0.0279, -0.0316], grad_fn=<SliceBackward0>) \n",
      "\n"
     ]
    }
   ],
   "execution_count": 31
  },
  {
   "metadata": {},
   "cell_type": "markdown",
   "source": [
    "Autograd is automatic gradient computation. Use `torch.no_grad()` to disable gradient tracking, when you want to freeze params or speed up a forward-only computation.\n",
    "In the back pass, autograd accumulates gradients in the `.grad` attribute of a tensor. We need to zero the gradients before a new back pass."
   ],
   "id": "37fea7a72efc2f06"
  },
  {
   "metadata": {},
   "cell_type": "markdown",
   "source": "## Optimization Loop",
   "id": "a5b1c1298ac26efe"
  },
  {
   "metadata": {
    "ExecuteTime": {
     "end_time": "2024-04-26T00:28:45.754024Z",
     "start_time": "2024-04-26T00:28:45.742665Z"
    }
   },
   "cell_type": "code",
   "source": [
    "def train_loop(dataloader, model, loss_fn, optimizer):\n",
    "    size = len(dataloader.dataset)\n",
    "    # Set the model to training mode - important for batch normalization and dropout layers\n",
    "    # Unnecessary in this situation but added for best practices\n",
    "    model.train()\n",
    "    for batch, (X, y) in enumerate(dataloader):\n",
    "        # Compute prediction and loss\n",
    "        pred = model(X)\n",
    "        loss = loss_fn(pred, y)\n",
    "\n",
    "        # Backpropagation\n",
    "        loss.backward()\n",
    "        optimizer.step()\n",
    "        optimizer.zero_grad()\n",
    "\n",
    "        if batch % 100 == 0:\n",
    "            loss, current = loss.item(), batch * batch_size + len(X)\n",
    "            print(f\"loss: {loss:>7f}  [{current:>5d}/{size:>5d}]\")\n",
    "\n",
    "\n",
    "def test_loop(dataloader, model, loss_fn):\n",
    "    # Set the model to evaluation mode - important for batch normalization and dropout layers\n",
    "    # Unnecessary in this situation but added for best practices\n",
    "    model.eval()\n",
    "    size = len(dataloader.dataset)\n",
    "    num_batches = len(dataloader)\n",
    "    test_loss, correct = 0, 0\n",
    "\n",
    "    # Evaluating the model with torch.no_grad() ensures that no gradients are computed during test mode\n",
    "    # also serves to reduce unnecessary gradient computations and memory usage for tensors with requires_grad=True\n",
    "    with torch.no_grad():\n",
    "        for X, y in dataloader:\n",
    "            pred = model(X)\n",
    "            test_loss += loss_fn(pred, y).item()\n",
    "            correct += (pred.argmax(1) == y).type(torch.float).sum().item()\n",
    "\n",
    "    test_loss /= num_batches\n",
    "    correct /= size\n",
    "    print(f\"Test Error: \\n Accuracy: {(100*correct):>0.1f}%, Avg loss: {test_loss:>8f} \\n\")"
   ],
   "id": "4e3ea58a9ec14062",
   "outputs": [],
   "execution_count": 38
  },
  {
   "metadata": {
    "ExecuteTime": {
     "end_time": "2024-04-26T00:30:55.336646Z",
     "start_time": "2024-04-26T00:28:47.725249Z"
    }
   },
   "cell_type": "code",
   "source": [
    "learning_rate = 1e-3\n",
    "batch_size = 64\n",
    "epochs = 10\n",
    "\n",
    "# Initialize the loss function\n",
    "# common choices: nn.MSELoss(), nn.CrossEntropyLoss(), nn.NLLLoss(), nn.BCELoss()\n",
    "loss_fn = nn.CrossEntropyLoss()\n",
    "optimizer = torch.optim.SGD(model.parameters(), lr=learning_rate)\n",
    "\n",
    "for t in range(epochs):\n",
    "    print(f\"Epoch {t+1}\\n-------------------------------\")\n",
    "    train_loop(train_dataloader, model, loss_fn, optimizer)\n",
    "    test_loop(test_dataloader, model, loss_fn)\n",
    "print(\"Done!\")"
   ],
   "id": "54c3859a87e55d37",
   "outputs": [
    {
     "name": "stdout",
     "output_type": "stream",
     "text": [
      "Epoch 1\n",
      "-------------------------------\n",
      "loss: 2.296013  [   64/60000]\n",
      "loss: 2.287519  [ 6464/60000]\n",
      "loss: 2.270291  [12864/60000]\n",
      "loss: 2.266093  [19264/60000]\n",
      "loss: 2.245693  [25664/60000]\n",
      "loss: 2.211928  [32064/60000]\n",
      "loss: 2.231156  [38464/60000]\n",
      "loss: 2.195112  [44864/60000]\n",
      "loss: 2.178909  [51264/60000]\n",
      "loss: 2.165900  [57664/60000]\n",
      "Test Error: \n",
      " Accuracy: 42.6%, Avg loss: 2.153262 \n",
      "\n",
      "Epoch 2\n",
      "-------------------------------\n",
      "loss: 2.159062  [   64/60000]\n",
      "loss: 2.154088  [ 6464/60000]\n",
      "loss: 2.100945  [12864/60000]\n",
      "loss: 2.116356  [19264/60000]\n",
      "loss: 2.066423  [25664/60000]\n",
      "loss: 2.004109  [32064/60000]\n",
      "loss: 2.039397  [38464/60000]\n",
      "loss: 1.963092  [44864/60000]\n",
      "loss: 1.943723  [51264/60000]\n",
      "loss: 1.904632  [57664/60000]\n",
      "Test Error: \n",
      " Accuracy: 58.8%, Avg loss: 1.890577 \n",
      "\n",
      "Epoch 3\n",
      "-------------------------------\n",
      "loss: 1.912726  [   64/60000]\n",
      "loss: 1.893266  [ 6464/60000]\n",
      "loss: 1.779049  [12864/60000]\n",
      "loss: 1.820216  [19264/60000]\n",
      "loss: 1.711976  [25664/60000]\n",
      "loss: 1.661497  [32064/60000]\n",
      "loss: 1.689331  [38464/60000]\n",
      "loss: 1.593725  [44864/60000]\n",
      "loss: 1.598106  [51264/60000]\n",
      "loss: 1.516553  [57664/60000]\n",
      "Test Error: \n",
      " Accuracy: 62.4%, Avg loss: 1.521508 \n",
      "\n",
      "Epoch 4\n",
      "-------------------------------\n",
      "loss: 1.578573  [   64/60000]\n",
      "loss: 1.553429  [ 6464/60000]\n",
      "loss: 1.402706  [12864/60000]\n",
      "loss: 1.477017  [19264/60000]\n",
      "loss: 1.357308  [25664/60000]\n",
      "loss: 1.345788  [32064/60000]\n",
      "loss: 1.369158  [38464/60000]\n",
      "loss: 1.297049  [44864/60000]\n",
      "loss: 1.321872  [51264/60000]\n",
      "loss: 1.233248  [57664/60000]\n",
      "Test Error: \n",
      " Accuracy: 64.0%, Avg loss: 1.251362 \n",
      "\n",
      "Epoch 5\n",
      "-------------------------------\n",
      "loss: 1.321077  [   64/60000]\n",
      "loss: 1.312576  [ 6464/60000]\n",
      "loss: 1.145516  [12864/60000]\n",
      "loss: 1.251809  [19264/60000]\n",
      "loss: 1.128501  [25664/60000]\n",
      "loss: 1.141223  [32064/60000]\n",
      "loss: 1.172446  [38464/60000]\n",
      "loss: 1.113142  [44864/60000]\n",
      "loss: 1.146081  [51264/60000]\n",
      "loss: 1.069607  [57664/60000]\n",
      "Test Error: \n",
      " Accuracy: 65.3%, Avg loss: 1.083774 \n",
      "\n",
      "Epoch 6\n",
      "-------------------------------\n",
      "loss: 1.146105  [   64/60000]\n",
      "loss: 1.161163  [ 6464/60000]\n",
      "loss: 0.975942  [12864/60000]\n",
      "loss: 1.110799  [19264/60000]\n",
      "loss: 0.985576  [25664/60000]\n",
      "loss: 1.004821  [32064/60000]\n",
      "loss: 1.050636  [38464/60000]\n",
      "loss: 0.996089  [44864/60000]\n",
      "loss: 1.031421  [51264/60000]\n",
      "loss: 0.968452  [57664/60000]\n",
      "Test Error: \n",
      " Accuracy: 66.1%, Avg loss: 0.976565 \n",
      "\n",
      "Epoch 7\n",
      "-------------------------------\n",
      "loss: 1.024653  [   64/60000]\n",
      "loss: 1.064798  [ 6464/60000]\n",
      "loss: 0.861195  [12864/60000]\n",
      "loss: 1.017616  [19264/60000]\n",
      "loss: 0.895984  [25664/60000]\n",
      "loss: 0.909977  [32064/60000]\n",
      "loss: 0.971621  [38464/60000]\n",
      "loss: 0.920580  [44864/60000]\n",
      "loss: 0.952703  [51264/60000]\n",
      "loss: 0.901571  [57664/60000]\n",
      "Test Error: \n",
      " Accuracy: 67.4%, Avg loss: 0.904474 \n",
      "\n",
      "Epoch 8\n",
      "-------------------------------\n",
      "loss: 0.936764  [   64/60000]\n",
      "loss: 0.998902  [ 6464/60000]\n",
      "loss: 0.779833  [12864/60000]\n",
      "loss: 0.952169  [19264/60000]\n",
      "loss: 0.836707  [25664/60000]\n",
      "loss: 0.841870  [32064/60000]\n",
      "loss: 0.916783  [38464/60000]\n",
      "loss: 0.870525  [44864/60000]\n",
      "loss: 0.896671  [51264/60000]\n",
      "loss: 0.853879  [57664/60000]\n",
      "Test Error: \n",
      " Accuracy: 68.3%, Avg loss: 0.853157 \n",
      "\n",
      "Epoch 9\n",
      "-------------------------------\n",
      "loss: 0.870292  [   64/60000]\n",
      "loss: 0.949911  [ 6464/60000]\n",
      "loss: 0.719319  [12864/60000]\n",
      "loss: 0.903601  [19264/60000]\n",
      "loss: 0.794492  [25664/60000]\n",
      "loss: 0.791532  [32064/60000]\n",
      "loss: 0.875803  [38464/60000]\n",
      "loss: 0.835946  [44864/60000]\n",
      "loss: 0.855268  [51264/60000]\n",
      "loss: 0.817506  [57664/60000]\n",
      "Test Error: \n",
      " Accuracy: 69.5%, Avg loss: 0.814534 \n",
      "\n",
      "Epoch 10\n",
      "-------------------------------\n",
      "loss: 0.817907  [   64/60000]\n",
      "loss: 0.910428  [ 6464/60000]\n",
      "loss: 0.672402  [12864/60000]\n",
      "loss: 0.866162  [19264/60000]\n",
      "loss: 0.762451  [25664/60000]\n",
      "loss: 0.753292  [32064/60000]\n",
      "loss: 0.842980  [38464/60000]\n",
      "loss: 0.810465  [44864/60000]\n",
      "loss: 0.823365  [51264/60000]\n",
      "loss: 0.788337  [57664/60000]\n",
      "Test Error: \n",
      " Accuracy: 70.6%, Avg loss: 0.783958 \n",
      "\n",
      "Done!\n"
     ]
    }
   ],
   "execution_count": 39
  },
  {
   "metadata": {},
   "cell_type": "markdown",
   "source": "",
   "id": "5af1f979ff2743bf"
  }
 ],
 "metadata": {
  "kernelspec": {
   "display_name": "Python 3",
   "language": "python",
   "name": "python3"
  },
  "language_info": {
   "codemirror_mode": {
    "name": "ipython",
    "version": 2
   },
   "file_extension": ".py",
   "mimetype": "text/x-python",
   "name": "python",
   "nbconvert_exporter": "python",
   "pygments_lexer": "ipython2",
   "version": "2.7.6"
  }
 },
 "nbformat": 4,
 "nbformat_minor": 5
}
